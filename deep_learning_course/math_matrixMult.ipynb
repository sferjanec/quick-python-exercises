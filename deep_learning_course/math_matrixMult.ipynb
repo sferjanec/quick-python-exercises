{
 "cells": [
  {
   "cell_type": "code",
   "execution_count": 1,
   "metadata": {},
   "outputs": [],
   "source": [
    "#import libraries\n",
    "import numpy as np\n",
    "import torch"
   ]
  },
  {
   "cell_type": "code",
   "execution_count": 2,
   "metadata": {},
   "outputs": [
    {
     "name": "stdout",
     "output_type": "stream",
     "text": [
      "[[ 0.48706246 -1.25222503 -1.77562893 -0.13143465]\n",
      " [ 0.3432118   0.07341473  0.74364516  1.39114941]\n",
      " [-0.79925636  1.80334324  0.09674946 -1.5616626 ]]\n"
     ]
    }
   ],
   "source": [
    "#create some random matrices\n",
    "A = np.random.randn(3,4)\n",
    "B = np.random.randn(4,5)\n",
    "C = np.random.randn(3,7)\n",
    "\n",
    "print(A)"
   ]
  },
  {
   "cell_type": "markdown",
   "metadata": {},
   "source": [
    "Using Pytorch"
   ]
  },
  {
   "cell_type": "code",
   "execution_count": 4,
   "metadata": {},
   "outputs": [
    {
     "name": "stdout",
     "output_type": "stream",
     "text": [
      "tensor([[ 0.5040,  1.8496,  0.7330,  0.3226],\n",
      "        [-0.5441,  0.3839, -0.7341, -1.8701],\n",
      "        [ 0.2048, -2.1266, -1.9592, -0.3581]])\n"
     ]
    }
   ],
   "source": [
    "# create some random matrices\n",
    "A = torch.randn(3,4)\n",
    "print(A)"
   ]
  }
 ],
 "metadata": {
  "kernelspec": {
   "display_name": "Python 3 (ipykernel)",
   "language": "python",
   "name": "python3"
  },
  "language_info": {
   "codemirror_mode": {
    "name": "ipython",
    "version": 3
   },
   "file_extension": ".py",
   "mimetype": "text/x-python",
   "name": "python",
   "nbconvert_exporter": "python",
   "pygments_lexer": "ipython3",
   "version": "3.11.7"
  }
 },
 "nbformat": 4,
 "nbformat_minor": 2
}
