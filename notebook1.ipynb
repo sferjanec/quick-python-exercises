{
 "cells": [
  {
   "cell_type": "code",
   "execution_count": null,
   "metadata": {},
   "outputs": [],
   "source": [
    "pip install requests"
   ]
  },
  {
   "cell_type": "code",
   "execution_count": 3,
   "metadata": {},
   "outputs": [],
   "source": [
    "# import requests\n",
    "\n",
    "import requests\n",
    "# get readme.txt file\n",
    "\n",
    "r = requests.get('https://www1.ncdc.noaa.gov/pub/data/ghcn/daily/readme.txt')\n",
    "readme = r.text"
   ]
  },
  {
   "cell_type": "code",
   "execution_count": 4,
   "metadata": {},
   "outputs": [],
   "source": [
    "# get inventory and stations files\n",
    "\n",
    "r = requests.get('https://www1.ncdc.noaa.gov/pub/data/ghcn/daily/ghcnd-inventory.txt')\n",
    "inventory_txt = r.text\n",
    "r = requests.get('https://www1.ncdc.noaa.gov/pub/data/ghcn/daily/ghcnd-stations.txt')\n",
    "stations_txt = r.text\n",
    "\n",
    "# save both the inventory and stations files to disk, in case we need them\n",
    "with open(\"inventory.txt\", \"w\") as inventory_file:\n",
    "    inventory_file.write(inventory_txt)\n",
    "with open(\"stations.txt\", \"w\") as stations_file:\n",
    "    stations_file.write(stations_txt)\n"
   ]
  },
  {
   "cell_type": "code",
   "execution_count": 5,
   "metadata": {},
   "outputs": [
    {
     "name": "stdout",
     "output_type": "stream",
     "text": [
      "ACW00011604  17.1167  -61.7833 TMAX 1949 1949\n",
      "ACW00011604  17.1167  -61.7833 TMIN 1949 1949\n",
      "ACW00011604  17.1167  -61.7833 PRCP 1949 1949\n"
     ]
    }
   ],
   "source": [
    "print(inventory_txt[:137])"
   ]
  }
 ],
 "metadata": {
  "kernelspec": {
   "display_name": "Python 3 (ipykernel)",
   "language": "python",
   "name": "python3"
  }
 },
 "nbformat": 4,
 "nbformat_minor": 4
}
